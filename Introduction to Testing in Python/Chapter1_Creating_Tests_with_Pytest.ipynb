{
 "cells": [
  {
   "cell_type": "markdown",
   "metadata": {},
   "source": [
    "### Introduction\n",
    "Learn what a test is and how to run the first one of your own with the pytest library! You will get used to the pytest testing framework and the command-line interface. You will also learn how to process specific contexts, like \"failed tests\" and \"skipping the test\" with pytest markers.\n",
    "\n",
    "#### Why is testing so important?\n",
    "**Common problems:**\n",
    "* Bugs and errors\n",
    "* Hardware failures\n",
    "* Unexpected or unpredictable behavior\n",
    "  \n",
    "All of the problems might lead to significant expenses increase for the fixing purposes\n",
    "\n",
    "**Testing helps to:**\n",
    "* Identify defects, bugs, and errors\n",
    "* Reduce risks of software failures\n",
    "* Enhance reliability, functionality, and performance of the software.\n",
    "\n",
    "**What is testing?**\n",
    "* **Testing** - a process of evaluating a system or software\n",
    "* We need testing to ensure it meets specified requirements\n",
    "*  **Test** - a procedure to verify the correctness of a software application or system\n",
    "  \n",
    "#### Course Prerequisites\n",
    "* Advanced Python programming\n",
    "* `assert` statements\n",
    "* Decorators\n",
    "* OOP Concepts (classes, methods, inheritance)\n",
    "\n",
    "#### Testing in Real Life\n",
    "Think of airplanes:\n",
    "* Visual inspection\n",
    "* Electronics and mechanics check\n",
    "* Fuel check\n",
    "* Passengers check\n",
    "* Weather check\n",
    "* Permission to take off from air traffic controller\n",
    "\n",
    "All of the above - are **tests**! All we need them for safety.\n",
    "\n",
    "#### Assert in Python\n",
    "* `assert condition` - let us to test if `condition` is `True`.\n",
    "* If `condition` is `False`, Python will raise an `AssertionError`.\n"
   ]
  },
  {
   "cell_type": "markdown",
   "metadata": {},
   "source": [
    "## Testing with pytest - a simple example\n",
    "`pytest` - a popular testing framework in Python, which provides a simple way to write tests.\n",
    "\n",
    "Example of an \"assert\" test written with `pytest` in Python:"
   ]
  },
  {
   "cell_type": "code",
   "execution_count": 3,
   "metadata": {},
   "outputs": [],
   "source": [
    "import pytest\n",
    "\n",
    "# A function to test\n",
    "def squared(number):\n",
    "    return number * number\n",
    "\n",
    "# A test function always starts with \"test\"\n",
    "def test_squared():\n",
    "    assert squared(-2) == squared(2)"
   ]
  },
  {
   "cell_type": "markdown",
   "metadata": {},
   "source": [
    "## Context managers recap\n",
    "* **Context manager** - a Python object that is used by declaring a with statement\n",
    "* We use **context managers** to set up and tear down temporary context"
   ]
  },
  {
   "cell_type": "code",
   "execution_count": 4,
   "metadata": {},
   "outputs": [],
   "source": [
    "# Writing to file example\n",
    "with open(\"hello_world.txt\", 'w') as hello_file:\n",
    "    hello_file.write(\"Hello world \\n\")"
   ]
  },
  {
   "cell_type": "markdown",
   "metadata": {},
   "source": [
    "## Meet the pytest: raises\n",
    "`pytest.raises` - when you expect the test to raise an `Exception`"
   ]
  },
  {
   "cell_type": "code",
   "execution_count": 5,
   "metadata": {},
   "outputs": [],
   "source": [
    "import pytest\n",
    "\n",
    "# A function to test\n",
    "def division(a, b):\n",
    "    return a / b\n",
    "# A test function\n",
    "def test_raises():\n",
    "    with pytest.raises(ZeroDivisionError):\n",
    "        division(a=25, b=0)"
   ]
  },
  {
   "cell_type": "markdown",
   "metadata": {},
   "source": [
    "## Summary\n",
    "**Testing** is:\n",
    "* A process of evaluating, that software works as expected\n",
    "* Present in everyday life\n",
    "* Essential to tackle the challenges of the software development process\n",
    "* Helps to ensure that the problems are addressed properly\n",
    "**Tests** implementation:\n",
    "* `pytest` - a powerful Python framework, that simplifies the testing process\n",
    "* `assert` - a Python keyword, used in `pytest` for creating basic tests by validating a condition\n",
    "* `pytest.raises` - a context manager, used to create a test that is expected to result in"
   ]
  },
  {
   "cell_type": "markdown",
   "metadata": {},
   "source": [
    "## Let's Practice \n",
    "### The first test suite\n",
    "\n",
    "In this exercise, you will write the first test suite that includes the types of tests that you have learned using the `pytest` library.\n",
    "\n",
    "The function `multiple_of_two` checks whether the `num` is a multiple of `2` or not. You will implement and run two regular `assert` tests.\n"
   ]
  },
  {
   "cell_type": "code",
   "execution_count": 7,
   "metadata": {},
   "outputs": [],
   "source": [
    "import pytest\n",
    "\n",
    "def multiple_of_two(num):\n",
    "    if num == 0:\n",
    "        raise(ValueError)\n",
    "    return num % 2 == 0\n",
    "\n",
    "def test_numbers():\n",
    "    assert multiple_of_two(4) == True"
   ]
  },
  {
   "cell_type": "code",
   "execution_count": null,
   "metadata": {},
   "outputs": [],
   "source": [
    "def multiple_of_two(num):\n",
    "    if num == 0:\n",
    "        raise(ValueError)\n",
    "    return num % 2 == 0\n",
    "\n",
    "def test_numbers():\n",
    "    assert multiple_of_two(2) == True\n",
    "    # Write the \"False\" test below\n",
    "    assert multiple_of_two(3) == False"
   ]
  },
  {
   "cell_type": "markdown",
   "metadata": {},
   "source": [
    "### **pytest.raises**\n",
    "\n",
    "In this exercise, you will continue writing the first test suite using the `pytest` library.\n",
    "\n",
    "The function `multiple_of_two checks` whether the `num` is a multiple of `2` or not. In this exercise, you will implement a test that expects to raise an `Exception`.\n",
    "\n",
    "The `pytest` package has been imported."
   ]
  },
  {
   "cell_type": "code",
   "execution_count": 8,
   "metadata": {},
   "outputs": [],
   "source": [
    "def multiple_of_two(num):\n",
    "    if num == 0:\n",
    "        raise(ValueError)\n",
    "    return num % 2 == 0\n",
    "\n",
    "def test_zero():    \n",
    "  \t# Add a context for an exception test here\n",
    "    with pytest.raises(ValueError):\n",
    "      \t# Check zero input below\n",
    "        multiple_of_two(0)"
   ]
  },
  {
   "cell_type": "markdown",
   "metadata": {},
   "source": [
    "## Invoking pytest from CLI\n",
    "\n",
    "**Command-Line Interface** (CLI) - a user interface that allows to interact with a computer program by entering text commands into a terminal.\n",
    "\n",
    "The command for running the `slides.py` from CLI:\n",
    "`pytest slides.py`\n",
    "Meaning: \"Please, run the `pytest` framework using the tests from the `slides.py` module\"\n",
    "\n",
    "\n",
    "**Directory argument**   \n",
    "The command for running all tests in tests_dir/ :  \n",
    "     `pytest tests_dir/`   \n",
    "**Meaning**: \"Please, run the `pytest` framework using all found the tests from the `tests_dir` folder\".\n",
    "\n",
    "**Keyword argument - filter tests by name**  \n",
    "The command for running tests from `tests_ex.py` contains \"squared\":  \n",
    "    `pytest tests_ex.py -k \"squared\"`  \n",
    "**Meaning**: \"Please, run the `pytest` framework using all tests from the `tests_ex.py` script containing `squared`\".\n",
    "\n",
    "\n",
    "### Summary\n",
    "* **IDE exercises** - let us to write code in an Integrated Development Environment and to use command-line interface (CLI)   \n",
    "* **CLI pytest command** starts with `pytest ` \n",
    "* **Sources of tests**:  \n",
    "    * One script, by passing `script_name.py`\n",
    "    * A set of scripts from one folder, by passing `directory_name/`\n",
    "* **Keyword argument**:\n",
    "    * By passing `-k \"keyword_expression\"`\n",
    "* **Output** of a test contains important information about the run"
   ]
  },
  {
   "cell_type": "markdown",
   "metadata": {},
   "source": [
    "## Applying test markers\n",
    "\n",
    "**Overview of test markers**\n",
    "* **Use case 1**: skip the test if the condition met\n",
    "* **Use case 2**: this test is expected to fail\n",
    "* **Test marker** - a tag (a marker) of a test in the `pytest` library\n",
    "* Allows to specify behavior for particular tests by tagging them (marking them)\n",
    "\n",
    "\n",
    "### Markers syntax\n",
    "* **Decorator** - a design pattern in Python that allows a user to add new functionality to an existing object without modifying its structure\n",
    "* **Test markers syntax** are started with `@pytest.mark` decorator:"
   ]
  },
  {
   "cell_type": "code",
   "execution_count": 10,
   "metadata": {},
   "outputs": [],
   "source": [
    "import pytest\n",
    "\n",
    "def get_length(string):\n",
    "    return len(string)\n",
    "\n",
    "# The test marker syntax\n",
    "@pytest.mark.skip\n",
    "def test_get_len():\n",
    "    assert get_length('123') == 3"
   ]
  },
  {
   "cell_type": "markdown",
   "metadata": {},
   "source": [
    "### Skip and skipif markers\n",
    "* Use `@pytest.mark.skip `- when you want a test to be skipped in any case\n",
    "* Use `@pytest.mark.skipif` - if you want a test to be skipped if a given condition is `True`"
   ]
  },
  {
   "cell_type": "markdown",
   "metadata": {},
   "source": [
    "#### Skip marker example   \n",
    "Use `@pytest.mark.skip` - when you want a test to be skipped indefinitely."
   ]
  },
  {
   "cell_type": "code",
   "execution_count": 11,
   "metadata": {},
   "outputs": [],
   "source": [
    "import pytest\n",
    "\n",
    "def get_length(string):\n",
    "    return len(string)\n",
    "\n",
    "# The skip marker example\n",
    "@pytest.mark.skip\n",
    "def test_get_len():\n",
    "    assert get_length('123') == 3"
   ]
  },
  {
   "cell_type": "markdown",
   "metadata": {},
   "source": [
    "### Skipif marker example\n",
    "Use `@pytest.mark.skipif` - when you want a test to be skipped if the given condition is True ."
   ]
  },
  {
   "cell_type": "code",
   "execution_count": 12,
   "metadata": {},
   "outputs": [],
   "source": [
    "import pytest\n",
    "def get_length(string):\n",
    "    return len(string)\n",
    "\n",
    "# The skipif marker example\n",
    "@pytest.mark.skipif('2 * 2 == 5')\n",
    "def test_get_len():\n",
    "    assert get_length('abc') == 3"
   ]
  },
  {
   "cell_type": "markdown",
   "metadata": {},
   "source": [
    "#### Xfail marker\n",
    "Use `@pytest.mark.xfail` - when you expect a test to be failed"
   ]
  },
  {
   "cell_type": "code",
   "execution_count": 13,
   "metadata": {},
   "outputs": [],
   "source": [
    "import pytest\n",
    "\n",
    "def gen_sequence(n):\n",
    "    return list(range(1, n+1))\n",
    "\n",
    "# The xfail marker example\n",
    "@pytest.mark.xfail\n",
    "def test_gen_seq():\n",
    "    assert gen_sequence(-1)"
   ]
  },
  {
   "cell_type": "markdown",
   "metadata": {},
   "source": [
    "### Summary\n",
    "**Test marker:**\n",
    "* Is an attribute of a test in the `pytest` library\n",
    "* Is used to specify behavior for particular tests\n",
    "* Has syntax started with `@pytest.mark.name_of_the_marker`\n",
    "* Out-of-the-box implementations in pytest:\n",
    "    * `@pytest.mark.xfail`\n",
    "    * `@pytest.mark.skip`\n",
    "    * `@pytest.mark.skipif`"
   ]
  }
 ],
 "metadata": {
  "kernelspec": {
   "display_name": ".venv",
   "language": "python",
   "name": "python3"
  },
  "language_info": {
   "codemirror_mode": {
    "name": "ipython",
    "version": 3
   },
   "file_extension": ".py",
   "mimetype": "text/x-python",
   "name": "python",
   "nbconvert_exporter": "python",
   "pygments_lexer": "ipython3",
   "version": "3.11.4"
  }
 },
 "nbformat": 4,
 "nbformat_minor": 2
}

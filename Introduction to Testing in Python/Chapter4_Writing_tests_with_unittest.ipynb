{
 "cells": [
  {
   "cell_type": "markdown",
   "metadata": {},
   "source": [
    "### Recap of OOP\n",
    "* OOP - programming paradigm based on objects and classes.\n",
    "* Class - a template of an object that can contain methods and attributes.\n",
    "* Method - a function or procedure that belongs to a class.\n",
    "* Attribute - a variable that belongs to a class.\n",
    "* Object - an instance of a class."
   ]
  },
  {
   "cell_type": "code",
   "execution_count": 1,
   "metadata": {},
   "outputs": [
    {
     "name": "stdout",
     "output_type": "stream",
     "text": [
      "20\n"
     ]
    },
    {
     "ename": "",
     "evalue": "",
     "output_type": "error",
     "traceback": [
      "\u001b[1;31mThe Kernel crashed while executing code in the current cell or a previous cell. \n",
      "\u001b[1;31mPlease review the code in the cell(s) to identify a possible cause of the failure. \n",
      "\u001b[1;31mClick <a href='https://aka.ms/vscodeJupyterKernelCrash'>here</a> for more info. \n",
      "\u001b[1;31mView Jupyter <a href='command:jupyter.viewOutput'>log</a> for further details."
     ]
    }
   ],
   "source": [
    "# Example of a Python class:\n",
    "class Rectangle:\n",
    "    # Constructor of Rectangle\n",
    "    def __init__(self, a, b):\n",
    "        self.a = a\n",
    "        self.b = b\n",
    "    # Area method\n",
    "    def get_area(self):\n",
    "        return self.a * self.b\n",
    "# Usage example\n",
    "r = Rectangle(4, 5)\n",
    "print(r.get_area())"
   ]
  },
  {
   "cell_type": "markdown",
   "metadata": {},
   "source": [
    "### OOP Inheritance\n",
    "* Classes can inherit properties from other classes.\n",
    "* Put the parent class in the brackets after the name of the new class."
   ]
  },
  {
   "cell_type": "code",
   "execution_count": null,
   "metadata": {},
   "outputs": [],
   "source": [
    "class RedRectangle(Rectangle):\n",
    "    self.color = 'red'"
   ]
  },
  {
   "cell_type": "markdown",
   "metadata": {},
   "source": [
    "#### What is unittest\n",
    "* unittest - built-in Python framework for test automation (it is installed with Python ).\n",
    "* unittest - not only for unit tests alone.\n",
    "* Based on OOP: each test case is a class, and each test is a method.\n",
    "* Test case - is an instance of testing.\n",
    "* Test suite - is a collection of test cases."
   ]
  },
  {
   "cell_type": "markdown",
   "metadata": {},
   "source": [
    "### unittest vs. pytest\n",
    "\n",
    "#### pytest\n",
    "* Functon-based - searches for scripts and functions starting with test_\n",
    "* Third-party package (has to be installed separately from the Python distribution)\n",
    "* Less assertion methods\n",
    "\n",
    "\n",
    "#### unittest\n",
    "* OOP-based - requires to create test classes\n",
    "* Built-in (is installed with the Python distribution)\n",
    "* More assertion methods"
   ]
  },
  {
   "cell_type": "markdown",
   "metadata": {},
   "source": [
    "### How to create a test with unittest\n",
    "\n",
    "Test of the exponentiation operator:"
   ]
  },
  {
   "cell_type": "code",
   "execution_count": null,
   "metadata": {},
   "outputs": [],
   "source": [
    "import unittest\n",
    "# Declaring the TestCase class\n",
    "class TestSquared(unittest.TestCase):\n",
    "    # Defining the test\n",
    "    def test_negative(self):\n",
    "        self.assertEqual((-3) ** 2, 9)"
   ]
  },
  {
   "cell_type": "markdown",
   "metadata": {},
   "source": [
    "#### Assertion methods\n",
    "* .assertEqual() , .assertNotEqual()\n",
    "* .assertTrue() , .assertFalse()\n",
    "* .assertIs() , .assertIsNone()\n",
    "* .assertIsInstance() , .assertIn()\n",
    "* .assertRaises()\n",
    "* Many others"
   ]
  },
  {
   "cell_type": "markdown",
   "metadata": {},
   "source": [
    "### Summary\n",
    "* unittest - OOP-based built-in Python framework for test automation\n",
    "\n",
    "* Test case - is a testing instance in unittest\n",
    "\n",
    "* To create a test:\n",
    "     1. Declare a class inheriting from unittest.TestCase\n",
    "     2. Define test functions\n",
    "\n",
    "* Assertion methods"
   ]
  },
  {
   "cell_type": "code",
   "execution_count": null,
   "metadata": {},
   "outputs": [],
   "source": [
    "def func_factorial(number):\n",
    "    if number < 0:\n",
    "        raise ValueError('Factorial is not defined for negative values')\n",
    "    factorial = 1\n",
    "    while number > 1:\n",
    "        factorial = factorial * number\n",
    "        number = number - 1\n",
    "    return factorial\n",
    "\n",
    "class TestFactorial(unittest.TestCase):\n",
    "    def test_negatives(self):\n",
    "      \t# Add the test for testing negatives here\n",
    "        with self.assertRaises(ValueError):\n",
    "            func_factorial(-1)"
   ]
  },
  {
   "cell_type": "markdown",
   "metadata": {},
   "source": []
  },
  {
   "cell_type": "markdown",
   "metadata": {},
   "source": [
    "### CLI Interface\n"
   ]
  },
  {
   "cell_type": "code",
   "execution_count": null,
   "metadata": {},
   "outputs": [],
   "source": [
    "# test_sqneg.py\n",
    "import unittest\n",
    "# Declaring the TestCase class\n",
    "class TestSquared(unittest.TestCase):\n",
    "    # Defining the test\n",
    "    def test_negative(self):\n",
    "        self.assertEqual((-3) ** 2, 9)"
   ]
  },
  {
   "cell_type": "code",
   "execution_count": null,
   "metadata": {},
   "outputs": [],
   "source": [
    "python3 -m unittest test_sqneg.py"
   ]
  },
  {
   "cell_type": "markdown",
   "metadata": {},
   "source": [
    "### Summary\n",
    "* Basic command without arguments `python3 -m unittest test_script.py`\n",
    "* Output in unittest\n",
    "* Keyword argument: `python3 -m unittest -k \"SomeStringOrPattern\" test_script.py`\n",
    "* Fail fast flag: `python3 -m unittest -f test_script.py`\n",
    "* Catch flag: `python3 -m unittest -c test_script.py`\n",
    "* Verbose flag: `python3 -m unittest -v test_script.py`"
   ]
  },
  {
   "cell_type": "markdown",
   "metadata": {},
   "source": [
    "### Fixtures recap\n",
    "* Fixture\n",
    "    * a prepared environment for a test\n",
    "    * separate the preparation from the test code\n",
    "* Fixture setup - setting up resources for tests\n",
    "* Fixture teardown - cleaning up (\"tearing down\") resources that were allocated\n",
    "* Example: preparing the food for a picnic and the cleaning at the end\n",
    "\n",
    "### Fixtures in the unittest library\n",
    "* **Fixture in unittest** - the preparaton needed to perform one or more tests\n",
    "* `.setUp()` - a method called to prepare the test fixture before the actual test\n",
    "* `.tearDown()` - a method called after the test method to clean the environment"
   ]
  },
  {
   "cell_type": "markdown",
   "metadata": {},
   "source": []
  },
  {
   "cell_type": "code",
   "execution_count": null,
   "metadata": {},
   "outputs": [],
   "source": [
    "import unittest\n",
    "class TestLi(unittest.TestCase):\n",
    "    # Fixture setup method\n",
    "    def setUp(self):\n",
    "        self.li = [i for i in range(100)]\n",
    "    # Fixture teardown method\n",
    "    def tearDown(self):\n",
    "        self.li.clear()\n",
    "    # Test method\n",
    "    def test_your_list(self):\n",
    "        self.assertIn(99, self.li)\n",
    "        self.assertNotIn(100, self.li)"
   ]
  },
  {
   "cell_type": "markdown",
   "metadata": {},
   "source": [
    "### Capital U and capital D\n",
    "The correct syntax: `setUp` with capital U and `tearDown` with capital D."
   ]
  },
  {
   "cell_type": "code",
   "execution_count": null,
   "metadata": {},
   "outputs": [],
   "source": [
    "class TestLi(unittest.TestCase):\n",
    "    # Fixture setup method\n",
    "    def setUp(self):\n",
    "        self.li = [i for i in range(100)]\n",
    "    # Fixture teardown method\n",
    "    def tearDown(self):\n",
    "        self.li.clear()"
   ]
  },
  {
   "cell_type": "markdown",
   "metadata": {},
   "source": [
    "Example output\n",
    "* The command: `python3 -m unittest test_in_list.py`\n",
    "* Output of a run with a `.setUp()` and `.tearDown()`:"
   ]
  },
  {
   "cell_type": "markdown",
   "metadata": {},
   "source": [
    "### Summary\n",
    "* **Fixture in unittest** - the preparation needed to perform one or more tests\n",
    "* To create a fixture:\n",
    "    * Implement the `.setUp()` method\n",
    "    * Implement the `.tearDown()` method\n",
    "* `.setUp()` - a method called to prepare the test fixture before the actual test.\n",
    "* `.tearDown()` - a method called after the test method to clean the environment."
   ]
  },
  {
   "cell_type": "markdown",
   "metadata": {},
   "source": []
  },
  {
   "cell_type": "code",
   "execution_count": null,
   "metadata": {},
   "outputs": [],
   "source": [
    "import pandas as pd\n",
    "\n",
    "# Fixture to get the data\n",
    "@pytest.fixture\n",
    "def read_df():\n",
    "    return pd.read_csv('ds_salaries.csv')\n",
    "\n",
    "# Function to filter the data\n",
    "def filter_df(df):\n",
    "    return df[df['employment_type'] == 'FT']\n",
    "\n",
    "# Function to get the mean\n",
    "def get_mean(df):\n",
    "    return df['salary_in_usd'].mean()"
   ]
  },
  {
   "cell_type": "markdown",
   "metadata": {},
   "source": [
    "### Integration tests\n",
    "Test cases:\n",
    "* Reading the data\n",
    "* Writing to the file\n"
   ]
  },
  {
   "cell_type": "markdown",
   "metadata": {},
   "source": [
    "def test_read_df(read_df):\n",
    "    # Check the type of the dataframe\n",
    "    assert isinstance(read_df, pd.DataFrame)\n",
    "    # Check that df contains rows\n",
    "    assert read_df.shape[0] > 0"
   ]
  },
  {
   "cell_type": "markdown",
   "metadata": {},
   "source": [
    "### Data and pipeline\n",
    "* Data: salaries in data science.\n",
    "* Each row contains information about a data science worker with his salary, title and other attributes.\n",
    "\n",
    "#### Pipeline: to get the mean salary:\n",
    "1. Read the data\n",
    "2. Filter by employment type\n",
    "3. Get the mean salary\n",
    "4. Save the results"
   ]
  },
  {
   "cell_type": "code",
   "execution_count": null,
   "metadata": {},
   "outputs": [],
   "source": [
    "import pandas as pd\n",
    "\n",
    "# Fixture to get the data\n",
    "@pytest.fixture\n",
    "def read_df():\n",
    "    return pd.read_csv('ds_salaries.csv')\n",
    "\n",
    "# Function to filter the data\n",
    "def filter_df(df):\n",
    "    return df[df['employment_type'] == 'FT']\n",
    "\n",
    "# Function to get the mean\n",
    "def get_mean(df):\n",
    "    return df['salary_in_usd'].mean()"
   ]
  },
  {
   "cell_type": "markdown",
   "metadata": {},
   "source": [
    "#### Integration tests\n",
    "Test cases:\n",
    "* Reading the data\n",
    "* Writing to the file"
   ]
  },
  {
   "cell_type": "code",
   "execution_count": null,
   "metadata": {},
   "outputs": [],
   "source": [
    "def test_read_df(read_df):\n",
    "    # Check the type of the dataframe\n",
    "    assert isinstance(read_df, pd.DataFrame)\n",
    "    # Check that df contains rows\n",
    "    assert read_df.shape[0] > 0\n",
    "\n",
    "def test_write():\n",
    "    # Opening a file in writing mode\n",
    "    with open('temp.txt', 'w') as wfile:\n",
    "        # Writing the text to the file\n",
    "        wfile.write('Testing stuff is awesome')\n",
    "    # Checking the file exists\n",
    "    assert os.path.exists('temp.txt')\n",
    "    # Don't forget to clean after yourself\n",
    "    os.remove('temp.txt')"
   ]
  },
  {
   "cell_type": "markdown",
   "metadata": {},
   "source": [
    "### Unit tests\n",
    "Test cases:\n",
    "* Filtered dataset contains only 'FT' employment type\n",
    "* The `get_mean()` function returns a number"
   ]
  },
  {
   "cell_type": "code",
   "execution_count": null,
   "metadata": {},
   "outputs": [],
   "source": [
    "def test_units(read_df):\n",
    "    filtered = filter_df(read_df)\n",
    "    assert filtered['employment_type'].unique() == ['FT']\n",
    "    assert isinstance(get_mean(filtered), float)"
   ]
  },
  {
   "cell_type": "markdown",
   "metadata": {},
   "source": [
    "### Feature tests\n",
    "Test cases:\n",
    "* The mean is greater than zero\n",
    "* The mean is not bigger than the maximum salary in the dataset"
   ]
  },
  {
   "cell_type": "code",
   "execution_count": null,
   "metadata": {},
   "outputs": [],
   "source": [
    "def test_feature(read_df):\n",
    "    # Filtering the data\n",
    "    filtered = filter_df(read_df)\n",
    "    # Test case: mean is greater than zero\n",
    "    assert get_mean(filtered) > 0\n",
    "    # Test case: mean is not bigger than the maximum\n",
    "    assert get_mean(filtered) <= read_df['salary_in_usd'].max()"
   ]
  },
  {
   "cell_type": "markdown",
   "metadata": {},
   "source": [
    "### Performance tests\n",
    "Test cases:\n",
    "Pipeline execution time from the start to the end"
   ]
  },
  {
   "cell_type": "code",
   "execution_count": null,
   "metadata": {},
   "outputs": [],
   "source": [
    "def test_performance(benchmark, read_df):\n",
    "    # Benchmark decorator\n",
    "    @benchmark\n",
    "    # Function to measure\n",
    "    def get_result():\n",
    "        filtered = filter_df(read_df)\n",
    "        return get_mean(filtered)"
   ]
  },
  {
   "cell_type": "code",
   "execution_count": null,
   "metadata": {},
   "outputs": [],
   "source": [
    "# Final test suite\n",
    "import pytest\n",
    "## Integration Tests\n",
    "def test_read_df(read_df):\n",
    "    # Check the type of the dataframe\n",
    "    assert isinstance(read_df, pd.DataFrame)\n",
    "    # Check that df contains rows\n",
    "    assert read_df.shape[0] > 0\n",
    "def test_write():\n",
    "    with open('temp.txt', 'w') as wfile:\n",
    "    wfile.write('12345')\n",
    "    assert os.path.exists('temp.txt')\n",
    "    os.remove('temp.txt')\n",
    "## Unit Tests\n",
    "def test_units(read_df):\n",
    "    filtered = filter_df(read_df)\n",
    "    assert filtered['employment_type'].unique() == ['FT']\n",
    "    assert isinstance(get_mean(filtered), float)\n",
    "\n",
    "\n",
    "\n",
    "## Feature Tests\n",
    "def test_feature(read_df):\n",
    "    # Filtering the data\n",
    "    filtered = filter_df(read_df)\n",
    "    # Test case: mean is greater than zero\n",
    "    assert get_mean(filtered) > 0\n",
    "    # Test case: mean is not bigger than the maximum\n",
    "    assert get_mean(filtered) <= read_df['salary_in_usd'].max()\n",
    "    ## Performance Tests\n",
    "def test_performance(benchmark, read_df):\n",
    "    # Benchmark decorator\n",
    "    @benchmark\n",
    "    # Function to measure\n",
    "    def pipeline():\n",
    "        filtered = filter_df(read_df)\n",
    "        return get_mean(filtered)"
   ]
  },
  {
   "cell_type": "markdown",
   "metadata": {},
   "source": []
  }
 ],
 "metadata": {
  "kernelspec": {
   "display_name": ".venv",
   "language": "python",
   "name": "python3"
  },
  "language_info": {
   "codemirror_mode": {
    "name": "ipython",
    "version": 3
   },
   "file_extension": ".py",
   "mimetype": "text/x-python",
   "name": "python",
   "nbconvert_exporter": "python",
   "pygments_lexer": "ipython3",
   "version": "3.11.4"
  }
 },
 "nbformat": 4,
 "nbformat_minor": 2
}
